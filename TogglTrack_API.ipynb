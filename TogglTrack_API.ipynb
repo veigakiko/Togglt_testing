{
  "nbformat": 4,
  "nbformat_minor": 0,
  "metadata": {
    "colab": {
      "provenance": [],
      "authorship_tag": "ABX9TyNLATgfDupC6oBt34vRQNX9",
      "include_colab_link": true
    },
    "kernelspec": {
      "name": "python3",
      "display_name": "Python 3"
    },
    "language_info": {
      "name": "python"
    }
  },
  "cells": [
    {
      "cell_type": "markdown",
      "metadata": {
        "id": "view-in-github",
        "colab_type": "text"
      },
      "source": [
        "<a href=\"https://colab.research.google.com/github/veigakiko/Togglt_testing/blob/main/TogglTrack_API.ipynb\" target=\"_parent\"><img src=\"https://colab.research.google.com/assets/colab-badge.svg\" alt=\"Open In Colab\"/></a>"
      ]
    },
    {
      "cell_type": "markdown",
      "source": [],
      "metadata": {
        "id": "c_cMadqlwTiR"
      }
    },
    {
      "cell_type": "markdown",
      "source": [
        "# **TogglTrack**\n",
        "\n",
        ">Get workspace projects.\\\n",
        "\n"
      ],
      "metadata": {
        "id": "NZIDGOcjEdQA"
      }
    },
    {
      "cell_type": "code",
      "source": [
        "import re\n",
        "import pandas as pd\n",
        "import requests\n",
        "from requests.auth import HTTPBasicAuth\n",
        "from urllib.request import urlopen\n",
        "import json\n",
        "\n",
        "response = requests.get('https://api.track.toggl.com/api/v9/me/projects', auth=('8aa48099c3b3ef7599180ed61ab5fb5b', 'api_token'),)\n",
        "repository = response.json()\n",
        "frame_toggl=[]\n",
        "for s in repository:\n",
        "        statement = repository\n",
        "        data_r = repository[0]\n",
        "frame_toggl.append(data_r)\n",
        "data_r = pd.DataFrame(frame_toggl)\n",
        "data_r"
      ],
      "metadata": {
        "id": "0Bn68Kaa8i5x"
      },
      "execution_count": null,
      "outputs": []
    }
  ]
}